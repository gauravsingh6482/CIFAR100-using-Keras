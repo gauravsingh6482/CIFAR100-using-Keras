{
  "nbformat": 4,
  "nbformat_minor": 0,
  "metadata": {
    "colab": {
      "name": "CIFAR100.ipynb",
      "provenance": []
    },
    "kernelspec": {
      "name": "python3",
      "display_name": "Python 3"
    },
    "accelerator": "GPU"
  },
  "cells": [
    {
      "cell_type": "markdown",
      "metadata": {
        "id": "ePSXI80UheGI",
        "colab_type": "text"
      },
      "source": [
        "#In this project we are classifiey images with CIFAR100 dataset"
      ]
    },
    {
      "cell_type": "markdown",
      "metadata": {
        "id": "cJoAgMoKh77A",
        "colab_type": "text"
      },
      "source": [
        "###This dataset is just like the CIFAR-10, except it has 100 classes containing 600 images each. There are 500 training images and 100 testing images per class. The 100 classes in the CIFAR-100 are grouped into 20 superclasses. Each image comes with a \"fine\" label (the class to which it belongs) and a \"coarse\" label (the superclass to which it belongs).\n"
      ]
    },
    {
      "cell_type": "code",
      "metadata": {
        "id": "ebNFHA1UfQlP",
        "colab_type": "code",
        "colab": {}
      },
      "source": [
        "# Importing Liabaries\n",
        "import keras \n",
        "import tensorflow as tf\n",
        "from keras.models import Sequential\n",
        "from keras.layers import Dense ,Flatten , Dropout\n",
        "from keras.layers import Conv2D , MaxPool2D\n",
        "from keras.losses import sparse_categorical_crossentropy\n",
        "from keras.optimizers import Adam\n",
        "import matplotlib.pyplot as plt"
      ],
      "execution_count": null,
      "outputs": []
    },
    {
      "cell_type": "code",
      "metadata": {
        "id": "cBF266CUfs1q",
        "colab_type": "code",
        "colab": {}
      },
      "source": [
        "# Load CIFAR-100 data\n",
        "from keras.datasets import cifar100 "
      ],
      "execution_count": null,
      "outputs": []
    },
    {
      "cell_type": "code",
      "metadata": {
        "id": "j-zpKsKuftTR",
        "colab_type": "code",
        "colab": {}
      },
      "source": [
        "# Split the dataset\n",
        "(X_train,y_train),(X_test,y_test)=cifar100.load_data()"
      ],
      "execution_count": null,
      "outputs": []
    },
    {
      "cell_type": "code",
      "metadata": {
        "id": "XwnrTy6unBGc",
        "colab_type": "code",
        "colab": {
          "base_uri": "https://localhost:8080/",
          "height": 34
        },
        "outputId": "63e1d030-4e9e-4f78-e14d-543c93cd3779"
      },
      "source": [
        "print(X_train.shape)"
      ],
      "execution_count": null,
      "outputs": [
        {
          "output_type": "stream",
          "text": [
            "(50000, 32, 32, 3)\n"
          ],
          "name": "stdout"
        }
      ]
    },
    {
      "cell_type": "code",
      "metadata": {
        "id": "1h-0-_mfftQA",
        "colab_type": "code",
        "colab": {}
      },
      "source": [
        "# Determine shape of the data\n",
        "img_width , img_height , img_num_channels=32 ,32, 3"
      ],
      "execution_count": null,
      "outputs": []
    },
    {
      "cell_type": "code",
      "metadata": {
        "id": "0aUCAFfWftM7",
        "colab_type": "code",
        "colab": {}
      },
      "source": [
        "input_shape=(img_width , img_height , img_num_channels)"
      ],
      "execution_count": null,
      "outputs": []
    },
    {
      "cell_type": "code",
      "metadata": {
        "id": "OlM0dkDlftJl",
        "colab_type": "code",
        "colab": {}
      },
      "source": [
        "# Parse numbers as floats\n",
        "X_train = X_train.astype('float32')\n",
        "X_test = X_test.astype('float32')"
      ],
      "execution_count": null,
      "outputs": []
    },
    {
      "cell_type": "code",
      "metadata": {
        "id": "XWkKIc5uiHnU",
        "colab_type": "code",
        "colab": {}
      },
      "source": [
        "# Normalize data\n",
        "X_train=X_train/255\n",
        "X_test=X_test/255\n",
        "\n",
        "num_classes=100"
      ],
      "execution_count": null,
      "outputs": []
    },
    {
      "cell_type": "code",
      "metadata": {
        "id": "B4ez33QnftGb",
        "colab_type": "code",
        "colab": {}
      },
      "source": [
        "# Create the model\n",
        "model=Sequential()\n",
        "model.add(Conv2D(32, kernel_size=(3,3), activation='relu',input_shape=input_shape))\n",
        "model.add(MaxPool2D(pool_size=(2,2)))\n",
        "model.add(Conv2D(64,kernel_size=(3,3),activation='relu'))\n",
        "model.add(MaxPool2D(pool_size=(2,2)))\n",
        "model.add(Conv2D(128,kernel_size=(3,3),activation='relu'))\n",
        "model.add(MaxPool2D(pool_size=(2,2)))\n",
        "model.add(Flatten())\n",
        "model.add(Dropout(0.5))\n",
        "model.add(Dense(256,activation='relu'))\n",
        "model.add(Dense(128,activation='relu'))\n",
        "model.add(Dense(num_classes,activation='softmax'))"
      ],
      "execution_count": null,
      "outputs": []
    },
    {
      "cell_type": "code",
      "metadata": {
        "id": "zqgMfA8KftCq",
        "colab_type": "code",
        "colab": {}
      },
      "source": [
        "# Compile the model\n",
        "model.compile(loss=sparse_categorical_crossentropy, optimizer=Adam(), metrics=['accuracy'])"
      ],
      "execution_count": null,
      "outputs": []
    },
    {
      "cell_type": "code",
      "metadata": {
        "id": "kGWbzEfcfs-e",
        "colab_type": "code",
        "colab": {
          "base_uri": "https://localhost:8080/",
          "height": 1000
        },
        "outputId": "01190870-438e-4400-9e00-bf7768bff5dc"
      },
      "source": [
        "# Fit data to model\n",
        "history=model.fit(X_train , y_train , batch_size=50 , epochs=50, verbose=1, validation_split=0.2)"
      ],
      "execution_count": null,
      "outputs": [
        {
          "output_type": "stream",
          "text": [
            "Train on 40000 samples, validate on 10000 samples\n",
            "Epoch 1/50\n",
            "40000/40000 [==============================] - 12s 292us/step - loss: 4.2274 - accuracy: 0.0458 - val_loss: 3.8701 - val_accuracy: 0.0984\n",
            "Epoch 2/50\n",
            "40000/40000 [==============================] - 5s 135us/step - loss: 3.6983 - accuracy: 0.1257 - val_loss: 3.4494 - val_accuracy: 0.1778\n",
            "Epoch 3/50\n",
            "40000/40000 [==============================] - 5s 136us/step - loss: 3.3984 - accuracy: 0.1803 - val_loss: 3.2315 - val_accuracy: 0.2158\n",
            "Epoch 4/50\n",
            "40000/40000 [==============================] - 5s 135us/step - loss: 3.2130 - accuracy: 0.2157 - val_loss: 3.0783 - val_accuracy: 0.2378\n",
            "Epoch 5/50\n",
            "40000/40000 [==============================] - 5s 133us/step - loss: 3.0836 - accuracy: 0.2383 - val_loss: 2.9938 - val_accuracy: 0.2517\n",
            "Epoch 6/50\n",
            "40000/40000 [==============================] - 5s 131us/step - loss: 2.9761 - accuracy: 0.2594 - val_loss: 2.9008 - val_accuracy: 0.2740\n",
            "Epoch 7/50\n",
            "40000/40000 [==============================] - 5s 137us/step - loss: 2.8948 - accuracy: 0.2728 - val_loss: 2.8343 - val_accuracy: 0.2898\n",
            "Epoch 8/50\n",
            "40000/40000 [==============================] - 5s 137us/step - loss: 2.8049 - accuracy: 0.2921 - val_loss: 2.8040 - val_accuracy: 0.2990\n",
            "Epoch 9/50\n",
            "40000/40000 [==============================] - 5s 133us/step - loss: 2.7391 - accuracy: 0.3041 - val_loss: 2.7112 - val_accuracy: 0.3138\n",
            "Epoch 10/50\n",
            "40000/40000 [==============================] - 5s 131us/step - loss: 2.6802 - accuracy: 0.3143 - val_loss: 2.6640 - val_accuracy: 0.3316\n",
            "Epoch 11/50\n",
            "40000/40000 [==============================] - 5s 135us/step - loss: 2.6237 - accuracy: 0.3279 - val_loss: 2.6337 - val_accuracy: 0.3314\n",
            "Epoch 12/50\n",
            "40000/40000 [==============================] - 5s 131us/step - loss: 2.5710 - accuracy: 0.3376 - val_loss: 2.6454 - val_accuracy: 0.3370\n",
            "Epoch 13/50\n",
            "40000/40000 [==============================] - 5s 131us/step - loss: 2.5230 - accuracy: 0.3482 - val_loss: 2.5722 - val_accuracy: 0.3498\n",
            "Epoch 14/50\n",
            "40000/40000 [==============================] - 5s 132us/step - loss: 2.4876 - accuracy: 0.3547 - val_loss: 2.5641 - val_accuracy: 0.3475\n",
            "Epoch 15/50\n",
            "40000/40000 [==============================] - 5s 135us/step - loss: 2.4552 - accuracy: 0.3577 - val_loss: 2.5201 - val_accuracy: 0.3630\n",
            "Epoch 16/50\n",
            "40000/40000 [==============================] - 5s 129us/step - loss: 2.4106 - accuracy: 0.3706 - val_loss: 2.5073 - val_accuracy: 0.3642\n",
            "Epoch 17/50\n",
            "40000/40000 [==============================] - 5s 132us/step - loss: 2.3817 - accuracy: 0.3782 - val_loss: 2.4955 - val_accuracy: 0.3660\n",
            "Epoch 18/50\n",
            "40000/40000 [==============================] - 5s 131us/step - loss: 2.3505 - accuracy: 0.3826 - val_loss: 2.4993 - val_accuracy: 0.3654\n",
            "Epoch 19/50\n",
            "40000/40000 [==============================] - 5s 134us/step - loss: 2.3328 - accuracy: 0.3889 - val_loss: 2.4896 - val_accuracy: 0.3695\n",
            "Epoch 20/50\n",
            "40000/40000 [==============================] - 6s 143us/step - loss: 2.3132 - accuracy: 0.3880 - val_loss: 2.4686 - val_accuracy: 0.3802\n",
            "Epoch 21/50\n",
            "40000/40000 [==============================] - 6s 140us/step - loss: 2.2781 - accuracy: 0.3957 - val_loss: 2.4957 - val_accuracy: 0.3662\n",
            "Epoch 22/50\n",
            "40000/40000 [==============================] - 5s 133us/step - loss: 2.2575 - accuracy: 0.3987 - val_loss: 2.4666 - val_accuracy: 0.3715\n",
            "Epoch 23/50\n",
            "40000/40000 [==============================] - 5s 133us/step - loss: 2.2369 - accuracy: 0.4071 - val_loss: 2.4431 - val_accuracy: 0.3784\n",
            "Epoch 24/50\n",
            "40000/40000 [==============================] - 5s 136us/step - loss: 2.2167 - accuracy: 0.4092 - val_loss: 2.4237 - val_accuracy: 0.3790\n",
            "Epoch 25/50\n",
            "40000/40000 [==============================] - 5s 135us/step - loss: 2.1941 - accuracy: 0.4164 - val_loss: 2.4435 - val_accuracy: 0.3805\n",
            "Epoch 26/50\n",
            "40000/40000 [==============================] - 5s 130us/step - loss: 2.1698 - accuracy: 0.4199 - val_loss: 2.4359 - val_accuracy: 0.3781\n",
            "Epoch 27/50\n",
            "40000/40000 [==============================] - 5s 135us/step - loss: 2.1534 - accuracy: 0.4241 - val_loss: 2.4056 - val_accuracy: 0.3866\n",
            "Epoch 28/50\n",
            "40000/40000 [==============================] - 5s 136us/step - loss: 2.1401 - accuracy: 0.4257 - val_loss: 2.4220 - val_accuracy: 0.3841\n",
            "Epoch 29/50\n",
            "40000/40000 [==============================] - 5s 132us/step - loss: 2.1237 - accuracy: 0.4283 - val_loss: 2.4455 - val_accuracy: 0.3830\n",
            "Epoch 30/50\n",
            "40000/40000 [==============================] - 5s 132us/step - loss: 2.1139 - accuracy: 0.4302 - val_loss: 2.4278 - val_accuracy: 0.3849\n",
            "Epoch 31/50\n",
            "40000/40000 [==============================] - 5s 129us/step - loss: 2.0912 - accuracy: 0.4371 - val_loss: 2.4464 - val_accuracy: 0.3839\n",
            "Epoch 32/50\n",
            "40000/40000 [==============================] - 5s 131us/step - loss: 2.0808 - accuracy: 0.4411 - val_loss: 2.4387 - val_accuracy: 0.3859\n",
            "Epoch 33/50\n",
            "40000/40000 [==============================] - 5s 131us/step - loss: 2.0774 - accuracy: 0.4377 - val_loss: 2.4624 - val_accuracy: 0.3824\n",
            "Epoch 34/50\n",
            "40000/40000 [==============================] - 5s 131us/step - loss: 2.0545 - accuracy: 0.4428 - val_loss: 2.4052 - val_accuracy: 0.3892\n",
            "Epoch 35/50\n",
            "40000/40000 [==============================] - 5s 134us/step - loss: 2.0414 - accuracy: 0.4462 - val_loss: 2.4332 - val_accuracy: 0.3872\n",
            "Epoch 36/50\n",
            "40000/40000 [==============================] - 5s 132us/step - loss: 2.0347 - accuracy: 0.4479 - val_loss: 2.4137 - val_accuracy: 0.3900\n",
            "Epoch 37/50\n",
            "40000/40000 [==============================] - 5s 136us/step - loss: 2.0222 - accuracy: 0.4482 - val_loss: 2.4785 - val_accuracy: 0.3814\n",
            "Epoch 38/50\n",
            "40000/40000 [==============================] - 5s 133us/step - loss: 2.0094 - accuracy: 0.4538 - val_loss: 2.4314 - val_accuracy: 0.3884\n",
            "Epoch 39/50\n",
            "40000/40000 [==============================] - 5s 135us/step - loss: 2.0022 - accuracy: 0.4550 - val_loss: 2.4578 - val_accuracy: 0.3833\n",
            "Epoch 40/50\n",
            "40000/40000 [==============================] - 5s 129us/step - loss: 1.9842 - accuracy: 0.4575 - val_loss: 2.4301 - val_accuracy: 0.3826\n",
            "Epoch 41/50\n",
            "40000/40000 [==============================] - 5s 133us/step - loss: 1.9890 - accuracy: 0.4583 - val_loss: 2.4454 - val_accuracy: 0.3915\n",
            "Epoch 42/50\n",
            "40000/40000 [==============================] - 5s 135us/step - loss: 1.9777 - accuracy: 0.4594 - val_loss: 2.4295 - val_accuracy: 0.3903\n",
            "Epoch 43/50\n",
            "40000/40000 [==============================] - 5s 135us/step - loss: 1.9679 - accuracy: 0.4617 - val_loss: 2.4127 - val_accuracy: 0.3966\n",
            "Epoch 44/50\n",
            "40000/40000 [==============================] - 5s 134us/step - loss: 1.9513 - accuracy: 0.4648 - val_loss: 2.4307 - val_accuracy: 0.3889\n",
            "Epoch 45/50\n",
            "40000/40000 [==============================] - 5s 131us/step - loss: 1.9506 - accuracy: 0.4683 - val_loss: 2.4080 - val_accuracy: 0.3993\n",
            "Epoch 46/50\n",
            "40000/40000 [==============================] - 5s 135us/step - loss: 1.9517 - accuracy: 0.4673 - val_loss: 2.4221 - val_accuracy: 0.3928\n",
            "Epoch 47/50\n",
            "40000/40000 [==============================] - 5s 133us/step - loss: 1.9361 - accuracy: 0.4647 - val_loss: 2.4553 - val_accuracy: 0.3896\n",
            "Epoch 48/50\n",
            "40000/40000 [==============================] - 5s 131us/step - loss: 1.9373 - accuracy: 0.4674 - val_loss: 2.4567 - val_accuracy: 0.3865\n",
            "Epoch 49/50\n",
            "40000/40000 [==============================] - 5s 134us/step - loss: 1.9137 - accuracy: 0.4717 - val_loss: 2.4495 - val_accuracy: 0.3899\n",
            "Epoch 50/50\n",
            "40000/40000 [==============================] - 5s 134us/step - loss: 1.9040 - accuracy: 0.4771 - val_loss: 2.4514 - val_accuracy: 0.3908\n"
          ],
          "name": "stdout"
        }
      ]
    },
    {
      "cell_type": "code",
      "metadata": {
        "id": "L5dUlTPyilpQ",
        "colab_type": "code",
        "colab": {
          "base_uri": "https://localhost:8080/",
          "height": 34
        },
        "outputId": "0c311563-098d-4930-c756-1f6f0381e695"
      },
      "source": [
        "# Generate generalization metrics\n",
        "score = model.evaluate(X_test, y_test, verbose=0)\n",
        "print(f'Test loss: {score[0]} / Test accuracy: {score[1]}')"
      ],
      "execution_count": null,
      "outputs": [
        {
          "output_type": "stream",
          "text": [
            "Test loss: 2.4224893005371095 / Test accuracy: 0.3896999955177307\n"
          ],
          "name": "stdout"
        }
      ]
    },
    {
      "cell_type": "code",
      "metadata": {
        "id": "MMjDz4Tji6dZ",
        "colab_type": "code",
        "colab": {
          "base_uri": "https://localhost:8080/",
          "height": 295
        },
        "outputId": "ffdfa744-06b4-4c65-9a1a-9b68cb6176ad"
      },
      "source": [
        "# Visualize history\n",
        "# Plot history: Loss\n",
        "plt.plot(history.history['val_loss'])\n",
        "plt.title('Validation loss history')\n",
        "plt.ylabel('Loss value')\n",
        "plt.xlabel('No. epoch')\n",
        "plt.show()"
      ],
      "execution_count": null,
      "outputs": [
        {
          "output_type": "display_data",
          "data": {
            "image/png": "[encoded data removed]",
            "text/plain": [
              "<Figure size 432x288 with 1 Axes>"
            ]
          },
          "metadata": {
            "tags": [],
            "needs_background": "light"
          }
        }
      ]
    },
    {
      "cell_type": "code",
      "metadata": {
        "id": "rfFGcQUKi668",
        "colab_type": "code",
        "colab": {
          "base_uri": "https://localhost:8080/",
          "height": 295
        },
        "outputId": "7a677723-1ca7-4aa4-d3a2-83738d2bd642"
      },
      "source": [
        "# Plot history: Accuracy\n",
        "plt.plot(history.history['val_accuracy'])\n",
        "plt.title('Validation accuracy history')\n",
        "plt.ylabel('Accuracy value (%)')\n",
        "plt.xlabel('No. epoch')\n",
        "plt.show()\n"
      ],
      "execution_count": null,
      "outputs": [
        {
          "output_type": "display_data",
          "data": {
            "image/png": "[encoded data removed]",
            "text/plain": [
              "<Figure size 432x288 with 1 Axes>"
            ]
          },
          "metadata": {
            "tags": [],
            "needs_background": "light"
          }
        }
      ]
    },
    {
      "cell_type": "code",
      "metadata": {
        "id": "WicKQ5yYZ0xC",
        "colab_type": "code",
        "colab": {}
      },
      "source": [
        ""
      ],
      "execution_count": null,
      "outputs": []
    }
  ]
}